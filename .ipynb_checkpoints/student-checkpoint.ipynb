{
 "cells": [
  {
   "cell_type": "markdown",
   "metadata": {},
   "source": [
    "## Final Project Submission\n",
    "\n",
    "Please fill out:\n",
    "* Student name: Cecilia Ngunjiri\n",
    "* Student pace: Part Time\n",
    "* Scheduled project review date/time: 1st September 2024\n",
    "* Instructor name: Samuel Karu\n",
    "* Blog post URL:\n"
   ]
  },
  {
   "cell_type": "markdown",
   "metadata": {},
   "source": [
    "### Business Problem Statement"
   ]
  },
  {
   "cell_type": "markdown",
   "metadata": {},
   "source": [
    "### Objective"
   ]
  },
  {
   "cell_type": "markdown",
   "metadata": {},
   "source": [
    "To identify and mitigate customer churn for SyriaTel, a telecommunications company, by developing predictive models that can accurately forecast which customers are likely to stop doing business with the company in the near future.\n",
    "\n",
    " The goal is to build a classification model that can predict whether a customer will churn soon (binary outcome: 0 for \"not churn\" and 1 for \"churn\") based on historical data."
   ]
  },
  {
   "cell_type": "markdown",
   "metadata": {},
   "source": [
    "Customer churn, or the rate at which customers discontinue their subscription or service, is a critical issue for telecommunications companies. High churn rates can significantly impact revenue and operational efficiency. Understanding and predicting churn is crucial for implementing effective retention strategies and improving customer satisfaction."
   ]
  },
  {
   "cell_type": "code",
   "execution_count": null,
   "metadata": {},
   "outputs": [],
   "source": []
  }
 ],
 "metadata": {
  "kernelspec": {
   "display_name": "Python 3 (ipykernel)",
   "language": "python",
   "name": "python3"
  },
  "language_info": {
   "codemirror_mode": {
    "name": "ipython",
    "version": 3
   },
   "file_extension": ".py",
   "mimetype": "text/x-python",
   "name": "python",
   "nbconvert_exporter": "python",
   "pygments_lexer": "ipython3",
   "version": "3.9.7"
  }
 },
 "nbformat": 4,
 "nbformat_minor": 2
}
